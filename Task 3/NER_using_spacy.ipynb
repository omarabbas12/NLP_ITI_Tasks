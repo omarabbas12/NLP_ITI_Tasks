{
  "nbformat": 4,
  "nbformat_minor": 0,
  "metadata": {
    "colab": {
      "provenance": [],
      "gpuType": "T4"
    },
    "kernelspec": {
      "name": "python3",
      "display_name": "Python 3"
    },
    "language_info": {
      "name": "python"
    },
    "accelerator": "GPU"
  },
  "cells": [
    {
      "cell_type": "code",
      "execution_count": 4,
      "metadata": {
        "id": "eW9P-U-pqns3"
      },
      "outputs": [],
      "source": [
        "# !python -m spacy init fill-config  config.cfgbase_config.cfg"
      ]
    },
    {
      "cell_type": "code",
      "source": [
        "# ! python -m spacy debug data base_config.cfg"
      ],
      "metadata": {
        "colab": {
          "base_uri": "https://localhost:8080/"
        },
        "id": "sAsvebltquID",
        "outputId": "38cfa0f3-de55-47c7-b775-67e496a49019"
      },
      "execution_count": 2,
      "outputs": [
        {
          "output_type": "stream",
          "name": "stdout",
          "text": [
            "\u001b[38;5;1m✘ Config validation error\u001b[0m\n",
            "disabled\tfield required\n",
            "tokenizer\tfield required\n",
            "before_creation\tfield required\n",
            "after_creation\tfield required\n",
            "after_pipeline_creation\tfield required\n",
            "{'lang': 'en', 'pipeline': ['transformer', 'ner'], 'batch_size': 128, 'vectors': {'@vectors': 'spacy.Vectors.v1'}}\n",
            "\n",
            "If your config contains missing values, you can run the 'init fill-config'\n",
            "command to fill in all the defaults, if possible:\n",
            "\n",
            "python -m spacy init fill-config base_config.cfg base_config.cfg \n",
            "\n"
          ]
        }
      ]
    },
    {
      "cell_type": "code",
      "source": [
        "!python -m spacy init config config.cfg --lang en --pipeline ner -F"
      ],
      "metadata": {
        "colab": {
          "base_uri": "https://localhost:8080/"
        },
        "id": "aVIXRjCfsIV0",
        "outputId": "726c948a-0bb2-4a32-b0eb-ff225da99f07"
      },
      "execution_count": 29,
      "outputs": [
        {
          "output_type": "stream",
          "name": "stdout",
          "text": [
            "\u001b[38;5;3m⚠ To generate a more effective transformer-based config (GPU-only),\n",
            "install the spacy-transformers package and re-run this command. The config\n",
            "generated now does not use transformers.\u001b[0m\n",
            "\u001b[38;5;4mℹ Generated config template specific for your use case\u001b[0m\n",
            "- Language: en\n",
            "- Pipeline: ner\n",
            "- Optimize for: efficiency\n",
            "- Hardware: CPU\n",
            "- Transformer: None\n",
            "\u001b[38;5;2m✔ Auto-filled config with all values\u001b[0m\n",
            "\u001b[38;5;2m✔ Saved config\u001b[0m\n",
            "config.cfg\n",
            "You can now add your data and train your pipeline:\n",
            "python -m spacy train config.cfg --paths.train ./train.spacy --paths.dev ./dev.spacy\n"
          ]
        }
      ]
    },
    {
      "cell_type": "code",
      "source": [
        "from datasets import load_dataset\n",
        "import spacy\n",
        "from spacy.tokens import DocBin\n",
        "from datasets import load_dataset"
      ],
      "metadata": {
        "id": "dAa3z6Ou93O0"
      },
      "execution_count": 16,
      "outputs": []
    },
    {
      "cell_type": "code",
      "source": [
        "\n",
        "dataset = load_dataset(\"eriktks/conll2003\",trust_remote_code=True)\n",
        "train_data = dataset['train']\n"
      ],
      "metadata": {
        "id": "SuZJNUhIvUuD"
      },
      "execution_count": 13,
      "outputs": []
    },
    {
      "cell_type": "code",
      "source": [
        "from datasets import load_dataset\n",
        "import spacy\n",
        "from spacy.tokens import DocBin\n",
        "from datasets import Dataset\n",
        "\n",
        "\n",
        "\n",
        "dataset = load_dataset(\"eriktks/conll2003\", trust_remote_code=True)\n",
        "label_names = dataset[\"train\"].features[\"ner_tags\"].feature.names\n",
        "\n",
        "nlp = spacy.blank(\"en\")\n",
        "\n",
        "def convert_to_docbin_simple(dataset: Dataset, label_names: list, output_path: str):\n",
        "    nlp = spacy.blank(\"en\")  # just tokenizer\n",
        "    doc_bin = DocBin()\n",
        "\n",
        "    for example in dataset:\n",
        "        words = example[\"tokens\"]\n",
        "        tags = example[\"ner_tags\"]\n",
        "        doc = nlp.make_doc(\" \".join(words))\n",
        "\n",
        "        ents = []\n",
        "        offset = 0\n",
        "        for word, tag_id in zip(words, tags):\n",
        "            tag = label_names[tag_id]\n",
        "            if tag.startswith(\"B-\"):\n",
        "                start = doc.text.find(word, offset)\n",
        "                end = start + len(word)\n",
        "                label = tag[2:]\n",
        "                span = doc.char_span(start, end, label=label)\n",
        "                if span:\n",
        "                    ents.append(span)\n",
        "                offset = end\n",
        "            else:\n",
        "                offset = doc.text.find(word, offset) + len(word)\n",
        "\n",
        "        doc.ents = ents\n",
        "        doc_bin.add(doc)\n",
        "\n",
        "    doc_bin.to_disk(output_path)\n",
        "    print(f\"Saved to {output_path}\")\n",
        "\n",
        "convert_to_docbin_simple(dataset[\"train\"], label_names, \"train.spacy\")\n",
        "convert_to_docbin_simple(dataset[\"validation\"], label_names, \"dev.spacy\")"
      ],
      "metadata": {
        "colab": {
          "base_uri": "https://localhost:8080/"
        },
        "id": "X1y3fL5s9N_b",
        "outputId": "5a21d2fb-ad7d-4e96-e695-f8f3e336216d"
      },
      "execution_count": 22,
      "outputs": [
        {
          "output_type": "stream",
          "name": "stdout",
          "text": [
            "Saved to train.spacy\n",
            "Saved to dev.spacy\n"
          ]
        }
      ]
    },
    {
      "cell_type": "code",
      "source": [
        "!python -m spacy train config.cfg --output ./output --paths.train ./train.spacy --paths.dev ./dev.spacy --gpu-id 0\n"
      ],
      "metadata": {
        "colab": {
          "base_uri": "https://localhost:8080/"
        },
        "id": "6RXJ-gsFvVA6",
        "outputId": "7c6b90b0-6724-4590-900b-118533c5610a"
      },
      "execution_count": 31,
      "outputs": [
        {
          "output_type": "stream",
          "name": "stdout",
          "text": [
            "\u001b[38;5;4mℹ Saving to output directory: output\u001b[0m\n",
            "\u001b[38;5;4mℹ Using GPU: 0\u001b[0m\n",
            "\u001b[1m\n",
            "=========================== Initializing pipeline ===========================\u001b[0m\n",
            "\u001b[38;5;2m✔ Initialized pipeline\u001b[0m\n",
            "\u001b[1m\n",
            "============================= Training pipeline =============================\u001b[0m\n",
            "\u001b[38;5;4mℹ Pipeline: ['tok2vec', 'ner']\u001b[0m\n",
            "\u001b[38;5;4mℹ Initial learn rate: 0.001\u001b[0m\n",
            "E    #       LOSS TOK2VEC  LOSS NER  ENTS_F  ENTS_P  ENTS_R  SCORE \n",
            "---  ------  ------------  --------  ------  ------  ------  ------\n",
            "  0       0          0.00     44.28    0.00    0.00    0.00    0.00\n",
            "  0     200         64.88   2641.24   59.39   60.24   58.57    0.59\n",
            "  0     400        159.14   1584.51   75.21   76.36   74.10    0.75\n",
            "  0     600        178.19   1502.86   79.33   79.77   78.90    0.79\n",
            "  0     800        211.72   1573.32   82.89   83.75   82.04    0.83\n",
            "  0    1000        553.33   1653.04   83.41   84.03   82.80    0.83\n",
            "  1    1200        261.85   1571.59   86.02   86.86   85.19    0.86\n",
            "  1    1400        295.69   1136.86   86.41   86.44   86.39    0.86\n",
            "  1    1600        415.07   1445.24   87.35   88.06   86.65    0.87\n",
            "  2    1800        429.56   1368.94   88.23   88.60   87.87    0.88\n",
            "  2    2000        420.04   1150.57   87.48   87.81   87.16    0.87\n",
            "  3    2200        488.64   1011.63   88.37   88.77   87.97    0.88\n",
            "  4    2400        527.97   1004.81   89.08   90.10   88.08    0.89\n",
            "  5    2600        517.12    844.35   88.99   89.44   88.54    0.89\n",
            "  6    2800        478.32    690.57   89.14   88.94   89.33    0.89\n",
            "  7    3000        702.49    770.76   88.52   88.83   88.22    0.89\n",
            "  8    3200        531.60    576.79   88.50   88.69   88.30    0.88\n",
            "  9    3400        521.96    546.24   88.59   89.35   87.85    0.89\n",
            "  9    3600        527.23    465.34   88.30   89.27   87.36    0.88\n",
            " 10    3800        456.89    401.55   88.53   89.42   87.65    0.89\n",
            " 11    4000        508.95    415.84   88.04   88.61   87.48    0.88\n",
            " 12    4200        525.96    429.47   88.49   88.49   88.49    0.88\n",
            " 13    4400        560.37    415.45   88.27   88.46   88.08    0.88\n",
            "\u001b[38;5;2m✔ Saved pipeline to output directory\u001b[0m\n",
            "output/model-last\n"
          ]
        }
      ]
    },
    {
      "cell_type": "code",
      "source": [
        "!python -m spacy evaluate ./output/model-best ./dev.spacy\n"
      ],
      "metadata": {
        "colab": {
          "base_uri": "https://localhost:8080/"
        },
        "id": "pH2gY6JH86Z8",
        "outputId": "1cdcc0ad-c6ea-4ef6-ceba-6ba3cbcde5c0"
      },
      "execution_count": 32,
      "outputs": [
        {
          "output_type": "stream",
          "name": "stdout",
          "text": [
            "\u001b[38;5;4mℹ Using CPU\u001b[0m\n",
            "\u001b[38;5;4mℹ To switch to GPU 0, use the option: --gpu-id 0\u001b[0m\n",
            "\u001b[1m\n",
            "================================== Results ==================================\u001b[0m\n",
            "\n",
            "TOK     100.00\n",
            "NER P   88.94 \n",
            "NER R   89.33 \n",
            "NER F   89.14 \n",
            "SPEED   27796 \n",
            "\n",
            "\u001b[1m\n",
            "=============================== NER (per type) ===============================\u001b[0m\n",
            "\n",
            "           P       R       F\n",
            "ORG    87.58   82.55   84.99\n",
            "LOC    89.65   94.34   91.94\n",
            "MISC   89.44   85.47   87.41\n",
            "PER    88.89   91.21   90.03\n",
            "\n"
          ]
        }
      ]
    },
    {
      "cell_type": "code",
      "source": [
        "\n",
        "# Load best model after training\n",
        "nlp = spacy.load(\"./output/model-best\")\n",
        "\n",
        "# Use it\n",
        "doc = nlp(\"Apple is looking at buying a startup in the UK\")\n",
        "for ent in doc.ents:\n",
        "    print(ent.text, ent.label_)\n"
      ],
      "metadata": {
        "colab": {
          "base_uri": "https://localhost:8080/"
        },
        "id": "FGZLzIWZAiep",
        "outputId": "01dd139e-5a87-4cbf-c4cd-dc43df8cab6d"
      },
      "execution_count": 33,
      "outputs": [
        {
          "output_type": "stream",
          "name": "stdout",
          "text": [
            "Apple ORG\n",
            "UK LOC\n"
          ]
        }
      ]
    },
    {
      "cell_type": "code",
      "source": [],
      "metadata": {
        "id": "OwSN07QEJhUR"
      },
      "execution_count": null,
      "outputs": []
    }
  ]
}