{
  "nbformat": 4,
  "nbformat_minor": 0,
  "metadata": {
    "colab": {
      "provenance": []
    },
    "kernelspec": {
      "name": "python3",
      "display_name": "Python 3"
    },
    "language_info": {
      "name": "python"
    }
  },
  "cells": [
    {
      "cell_type": "code",
      "source": [
        "# !pip install gensim\n",
        "\n",
        "# !pip install --upgrade numpy scipy gensim"
      ],
      "metadata": {
        "colab": {
          "base_uri": "https://localhost:8080/"
        },
        "id": "SJukaanORc27",
        "outputId": "2ebb2ac9-c3c3-404b-9bf6-dedcaac91c68"
      },
      "execution_count": 6,
      "outputs": [
        {
          "output_type": "stream",
          "name": "stdout",
          "text": [
            "Requirement already satisfied: numpy in /usr/local/lib/python3.11/dist-packages (1.26.4)\n",
            "Collecting numpy\n",
            "  Using cached numpy-2.2.5-cp311-cp311-manylinux_2_17_x86_64.manylinux2014_x86_64.whl.metadata (62 kB)\n",
            "Requirement already satisfied: scipy in /usr/local/lib/python3.11/dist-packages (1.13.1)\n",
            "Collecting scipy\n",
            "  Using cached scipy-1.15.2-cp311-cp311-manylinux_2_17_x86_64.manylinux2014_x86_64.whl.metadata (61 kB)\n",
            "Requirement already satisfied: gensim in /usr/local/lib/python3.11/dist-packages (4.3.3)\n",
            "Requirement already satisfied: smart-open>=1.8.1 in /usr/local/lib/python3.11/dist-packages (from gensim) (7.1.0)\n",
            "Requirement already satisfied: wrapt in /usr/local/lib/python3.11/dist-packages (from smart-open>=1.8.1->gensim) (1.17.2)\n"
          ]
        }
      ]
    },
    {
      "cell_type": "code",
      "execution_count": 1,
      "metadata": {
        "colab": {
          "base_uri": "https://localhost:8080/"
        },
        "id": "b6YzpP3JRU2q",
        "outputId": "4387271c-a6fe-4242-c898-72c59d061bfe"
      },
      "outputs": [
        {
          "output_type": "stream",
          "name": "stdout",
          "text": [
            "[==================================================] 100.0% 66.0/66.0MB downloaded\n"
          ]
        }
      ],
      "source": [
        "import gensim.downloader as api\n",
        "import numpy as np\n",
        "\n",
        "model = api.load(\"glove-wiki-gigaword-50\")\n"
      ]
    },
    {
      "cell_type": "code",
      "source": [
        "vocabulary=['boxing' , 'kickboxing' , 'training' , 'sport' , 'gloves']\n",
        "\n",
        "def CBOW(model , vocabulary ):\n",
        "\n",
        "\n",
        "  mean_vector = np.mean([model[word] for word in vocabulary], axis=0)\n",
        "\n",
        "  return model.similar_by_vector(mean_vector)[:5]\n",
        "\n",
        "\n",
        "word=CBOW(model , vocabulary)\n",
        "\n",
        "print(word)\n"
      ],
      "metadata": {
        "colab": {
          "base_uri": "https://localhost:8080/"
        },
        "id": "_lMJEcD4ZRrs",
        "outputId": "796f780d-6903-4b84-e3a5-b146649a00bb"
      },
      "execution_count": 33,
      "outputs": [
        {
          "output_type": "stream",
          "name": "stdout",
          "text": [
            "[('boxing', 0.8440662026405334), ('volleyball', 0.7848924994468689), ('professional', 0.7839041948318481), ('wrestling', 0.7714602947235107), ('sport', 0.760222315788269)]\n"
          ]
        }
      ]
    },
    {
      "cell_type": "code",
      "source": [
        "def skipgram(model , my_word):\n",
        "\n",
        "\n",
        "  return model.most_similar(my_word)[:5]\n",
        "\n",
        "\n",
        "desired_word = 'elephant'\n",
        "\n",
        "word=skipgram(model , desired_word)\n",
        "\n",
        "print(word)"
      ],
      "metadata": {
        "colab": {
          "base_uri": "https://localhost:8080/"
        },
        "id": "zG_aRyrnSwgm",
        "outputId": "c6204b1c-c6b5-416d-a10b-f5d7447737bb"
      },
      "execution_count": 14,
      "outputs": [
        {
          "output_type": "stream",
          "name": "stdout",
          "text": [
            "[('elephants', 0.8306302428245544), ('bird', 0.7757841348648071), ('crocodile', 0.771997332572937), ('deer', 0.7658653855323792), ('sheep', 0.7621645927429199)]\n"
          ]
        }
      ]
    }
  ]
}